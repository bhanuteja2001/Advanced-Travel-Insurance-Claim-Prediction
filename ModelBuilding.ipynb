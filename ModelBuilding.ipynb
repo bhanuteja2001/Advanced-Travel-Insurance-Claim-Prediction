{
  "nbformat": 4,
  "nbformat_minor": 0,
  "metadata": {
    "colab": {
      "name": "ModelBuilding.ipynb",
      "provenance": [],
      "authorship_tag": "ABX9TyNV/FsuNpR2xXwTRJwKJIlt",
      "include_colab_link": true
    },
    "kernelspec": {
      "name": "python3",
      "display_name": "Python 3"
    }
  },
  "cells": [
    {
      "cell_type": "markdown",
      "metadata": {
        "id": "view-in-github",
        "colab_type": "text"
      },
      "source": [
        "<a href=\"https://colab.research.google.com/github/bhanuteja2001/Advanced-Travel-Insurance-Claim-Prediction/blob/main/ModelBuilding.ipynb\" target=\"_parent\"><img src=\"https://colab.research.google.com/assets/colab-badge.svg\" alt=\"Open In Colab\"/></a>"
      ]
    },
    {
      "cell_type": "code",
      "metadata": {
        "colab": {
          "base_uri": "https://localhost:8080/"
        },
        "id": "8Fb1wy8ExWKT",
        "outputId": "0e988da6-e3ac-4cb7-cdd8-cf41db3dc995"
      },
      "source": [
        "!pip install scikit-learn==0.23.1"
      ],
      "execution_count": 1,
      "outputs": [
        {
          "output_type": "stream",
          "text": [
            "Collecting scikit-learn==0.23.1\n",
            "\u001b[?25l  Downloading https://files.pythonhosted.org/packages/d9/3a/eb8d7bbe28f4787d140bb9df685b7d5bf6115c0e2a969def4027144e98b6/scikit_learn-0.23.1-cp36-cp36m-manylinux1_x86_64.whl (6.8MB)\n",
            "\u001b[K     |████████████████████████████████| 6.9MB 7.3MB/s \n",
            "\u001b[?25hCollecting threadpoolctl>=2.0.0\n",
            "  Downloading https://files.pythonhosted.org/packages/f7/12/ec3f2e203afa394a149911729357aa48affc59c20e2c1c8297a60f33f133/threadpoolctl-2.1.0-py3-none-any.whl\n",
            "Requirement already satisfied: numpy>=1.13.3 in /usr/local/lib/python3.6/dist-packages (from scikit-learn==0.23.1) (1.19.4)\n",
            "Requirement already satisfied: joblib>=0.11 in /usr/local/lib/python3.6/dist-packages (from scikit-learn==0.23.1) (1.0.0)\n",
            "Requirement already satisfied: scipy>=0.19.1 in /usr/local/lib/python3.6/dist-packages (from scikit-learn==0.23.1) (1.4.1)\n",
            "Installing collected packages: threadpoolctl, scikit-learn\n",
            "  Found existing installation: scikit-learn 0.22.2.post1\n",
            "    Uninstalling scikit-learn-0.22.2.post1:\n",
            "      Successfully uninstalled scikit-learn-0.22.2.post1\n",
            "Successfully installed scikit-learn-0.23.1 threadpoolctl-2.1.0\n"
          ],
          "name": "stdout"
        }
      ]
    },
    {
      "cell_type": "code",
      "metadata": {
        "id": "EmJTVuZtuP1x"
      },
      "source": [
        "import numpy as np\r\n",
        "import pandas as pd\r\n",
        "\r\n",
        "\r\n",
        "# Visualization libraries\r\n",
        "import matplotlib.pyplot as plt\r\n",
        "import seaborn as sns\r\n",
        "\r\n",
        "# To ignore warnings in the notebook\r\n",
        "import warnings\r\n",
        "warnings.filterwarnings(\"ignore\")"
      ],
      "execution_count": 2,
      "outputs": []
    },
    {
      "cell_type": "code",
      "metadata": {
        "id": "XGM_C15Y1e6F"
      },
      "source": [
        "# For Preprocessing, ML models and Evaluation\r\n",
        "from sklearn.model_selection import train_test_split   # To split the dataset into train and test set\r\n",
        "\r\n",
        "from sklearn.linear_model import LogisticRegression     # Logistic regression model\r\n",
        "\r\n",
        "from sklearn import preprocessing\r\n",
        "from sklearn.preprocessing import LabelEncoder    # for converting categorical to numerical\r\n",
        "\r\n",
        "from sklearn.metrics import f1_score    # for model evaluation"
      ],
      "execution_count": 8,
      "outputs": []
    },
    {
      "cell_type": "code",
      "metadata": {
        "id": "DnICj_VN826O"
      },
      "source": [
        "from sklearn.metrics import classification_report"
      ],
      "execution_count": 41,
      "outputs": []
    },
    {
      "cell_type": "code",
      "metadata": {
        "colab": {
          "base_uri": "https://localhost:8080/",
          "height": 195
        },
        "id": "9ma9_rxsxgmm",
        "outputId": "0bfe0de2-2df9-41eb-976d-b3ec03972b2f"
      },
      "source": [
        "Train = pd.read_csv(\"https://raw.githubusercontent.com/bhanuteja2001/Advanced-Travel-Insurance-Claim-Prediction/main/Insurance_data_preprocessed.csv\")\r\n",
        "Train.head()"
      ],
      "execution_count": 3,
      "outputs": [
        {
          "output_type": "execute_result",
          "data": {
            "text/html": [
              "<div>\n",
              "<style scoped>\n",
              "    .dataframe tbody tr th:only-of-type {\n",
              "        vertical-align: middle;\n",
              "    }\n",
              "\n",
              "    .dataframe tbody tr th {\n",
              "        vertical-align: top;\n",
              "    }\n",
              "\n",
              "    .dataframe thead th {\n",
              "        text-align: right;\n",
              "    }\n",
              "</style>\n",
              "<table border=\"1\" class=\"dataframe\">\n",
              "  <thead>\n",
              "    <tr style=\"text-align: right;\">\n",
              "      <th></th>\n",
              "      <th>Duration</th>\n",
              "      <th>Net Sales</th>\n",
              "      <th>Commision (in value)</th>\n",
              "      <th>Age</th>\n",
              "      <th>types_Agency</th>\n",
              "      <th>types_Agency Type</th>\n",
              "      <th>types_Distribution Channel</th>\n",
              "      <th>types_Product Name</th>\n",
              "      <th>types_Destination</th>\n",
              "      <th>Claim</th>\n",
              "    </tr>\n",
              "  </thead>\n",
              "  <tbody>\n",
              "    <tr>\n",
              "      <th>0</th>\n",
              "      <td>0.072776</td>\n",
              "      <td>0.072015</td>\n",
              "      <td>0.042140</td>\n",
              "      <td>0.361446</td>\n",
              "      <td>0.571429</td>\n",
              "      <td>0.0</td>\n",
              "      <td>1.0</td>\n",
              "      <td>0.304348</td>\n",
              "      <td>0.703704</td>\n",
              "      <td>0</td>\n",
              "    </tr>\n",
              "    <tr>\n",
              "      <th>1</th>\n",
              "      <td>0.078167</td>\n",
              "      <td>0.679754</td>\n",
              "      <td>0.675452</td>\n",
              "      <td>0.590361</td>\n",
              "      <td>0.428571</td>\n",
              "      <td>1.0</td>\n",
              "      <td>1.0</td>\n",
              "      <td>0.652174</td>\n",
              "      <td>0.311111</td>\n",
              "      <td>0</td>\n",
              "    </tr>\n",
              "    <tr>\n",
              "      <th>2</th>\n",
              "      <td>0.156334</td>\n",
              "      <td>0.479601</td>\n",
              "      <td>0.476789</td>\n",
              "      <td>0.325301</td>\n",
              "      <td>0.428571</td>\n",
              "      <td>1.0</td>\n",
              "      <td>1.0</td>\n",
              "      <td>0.652174</td>\n",
              "      <td>0.022222</td>\n",
              "      <td>0</td>\n",
              "    </tr>\n",
              "    <tr>\n",
              "      <th>3</th>\n",
              "      <td>0.016173</td>\n",
              "      <td>0.088189</td>\n",
              "      <td>0.051505</td>\n",
              "      <td>0.614458</td>\n",
              "      <td>0.571429</td>\n",
              "      <td>0.0</td>\n",
              "      <td>1.0</td>\n",
              "      <td>0.304348</td>\n",
              "      <td>0.400000</td>\n",
              "      <td>0</td>\n",
              "    </tr>\n",
              "    <tr>\n",
              "      <th>4</th>\n",
              "      <td>0.018868</td>\n",
              "      <td>0.104363</td>\n",
              "      <td>0.060870</td>\n",
              "      <td>0.746988</td>\n",
              "      <td>0.571429</td>\n",
              "      <td>0.0</td>\n",
              "      <td>1.0</td>\n",
              "      <td>0.304348</td>\n",
              "      <td>0.859259</td>\n",
              "      <td>0</td>\n",
              "    </tr>\n",
              "  </tbody>\n",
              "</table>\n",
              "</div>"
            ],
            "text/plain": [
              "   Duration  Net Sales  ...  types_Destination  Claim\n",
              "0  0.072776   0.072015  ...           0.703704      0\n",
              "1  0.078167   0.679754  ...           0.311111      0\n",
              "2  0.156334   0.479601  ...           0.022222      0\n",
              "3  0.016173   0.088189  ...           0.400000      0\n",
              "4  0.018868   0.104363  ...           0.859259      0\n",
              "\n",
              "[5 rows x 10 columns]"
            ]
          },
          "metadata": {
            "tags": []
          },
          "execution_count": 3
        }
      ]
    },
    {
      "cell_type": "code",
      "metadata": {
        "colab": {
          "base_uri": "https://localhost:8080/",
          "height": 195
        },
        "id": "cl6JHiG2xqhf",
        "outputId": "70b9922b-75fa-458e-d694-424ae2f1f77d"
      },
      "source": [
        "test = pd.read_csv('https://raw.githubusercontent.com/bhanuteja2001/Advanced-Travel-Insurance-Claim-Prediction/main/Insurance_data_test.csv')\r\n",
        "test.head()"
      ],
      "execution_count": 4,
      "outputs": [
        {
          "output_type": "execute_result",
          "data": {
            "text/html": [
              "<div>\n",
              "<style scoped>\n",
              "    .dataframe tbody tr th:only-of-type {\n",
              "        vertical-align: middle;\n",
              "    }\n",
              "\n",
              "    .dataframe tbody tr th {\n",
              "        vertical-align: top;\n",
              "    }\n",
              "\n",
              "    .dataframe thead th {\n",
              "        text-align: right;\n",
              "    }\n",
              "</style>\n",
              "<table border=\"1\" class=\"dataframe\">\n",
              "  <thead>\n",
              "    <tr style=\"text-align: right;\">\n",
              "      <th></th>\n",
              "      <th>Duration</th>\n",
              "      <th>Net Sales</th>\n",
              "      <th>Commision (in value)</th>\n",
              "      <th>Age</th>\n",
              "      <th>types_Agency</th>\n",
              "      <th>types_Agency Type</th>\n",
              "      <th>types_Distribution Channel</th>\n",
              "      <th>types_Product Name</th>\n",
              "      <th>types_Destination</th>\n",
              "    </tr>\n",
              "  </thead>\n",
              "  <tbody>\n",
              "    <tr>\n",
              "      <th>0</th>\n",
              "      <td>0.005225</td>\n",
              "      <td>0.329336</td>\n",
              "      <td>0.0</td>\n",
              "      <td>0.299145</td>\n",
              "      <td>0.466667</td>\n",
              "      <td>1.0</td>\n",
              "      <td>1.0</td>\n",
              "      <td>0.416667</td>\n",
              "      <td>0.327586</td>\n",
              "    </tr>\n",
              "    <tr>\n",
              "      <th>1</th>\n",
              "      <td>0.010867</td>\n",
              "      <td>0.344754</td>\n",
              "      <td>0.0</td>\n",
              "      <td>0.299145</td>\n",
              "      <td>0.466667</td>\n",
              "      <td>1.0</td>\n",
              "      <td>1.0</td>\n",
              "      <td>0.416667</td>\n",
              "      <td>0.413793</td>\n",
              "    </tr>\n",
              "    <tr>\n",
              "      <th>2</th>\n",
              "      <td>0.011076</td>\n",
              "      <td>0.324197</td>\n",
              "      <td>0.0</td>\n",
              "      <td>0.170940</td>\n",
              "      <td>0.466667</td>\n",
              "      <td>1.0</td>\n",
              "      <td>1.0</td>\n",
              "      <td>0.416667</td>\n",
              "      <td>0.413793</td>\n",
              "    </tr>\n",
              "    <tr>\n",
              "      <th>3</th>\n",
              "      <td>0.018809</td>\n",
              "      <td>0.315632</td>\n",
              "      <td>0.0</td>\n",
              "      <td>0.247863</td>\n",
              "      <td>0.466667</td>\n",
              "      <td>1.0</td>\n",
              "      <td>1.0</td>\n",
              "      <td>0.416667</td>\n",
              "      <td>0.793103</td>\n",
              "    </tr>\n",
              "    <tr>\n",
              "      <th>4</th>\n",
              "      <td>0.001254</td>\n",
              "      <td>0.314775</td>\n",
              "      <td>0.0</td>\n",
              "      <td>0.273504</td>\n",
              "      <td>0.466667</td>\n",
              "      <td>1.0</td>\n",
              "      <td>1.0</td>\n",
              "      <td>0.416667</td>\n",
              "      <td>0.525862</td>\n",
              "    </tr>\n",
              "  </tbody>\n",
              "</table>\n",
              "</div>"
            ],
            "text/plain": [
              "   Duration  Net Sales  ...  types_Product Name  types_Destination\n",
              "0  0.005225   0.329336  ...            0.416667           0.327586\n",
              "1  0.010867   0.344754  ...            0.416667           0.413793\n",
              "2  0.011076   0.324197  ...            0.416667           0.413793\n",
              "3  0.018809   0.315632  ...            0.416667           0.793103\n",
              "4  0.001254   0.314775  ...            0.416667           0.525862\n",
              "\n",
              "[5 rows x 9 columns]"
            ]
          },
          "metadata": {
            "tags": []
          },
          "execution_count": 4
        }
      ]
    },
    {
      "cell_type": "code",
      "metadata": {
        "colab": {
          "base_uri": "https://localhost:8080/",
          "height": 411
        },
        "id": "ADqoCFkwxwfK",
        "outputId": "e92b2b37-7792-400b-9ad9-e4150fb094bf"
      },
      "source": [
        "import seaborn as sns\r\n",
        "\r\n",
        "Insu_corr_matrix = Train.corr()\r\n",
        "sns.heatmap(data=Insu_corr_matrix, annot=False)"
      ],
      "execution_count": 5,
      "outputs": [
        {
          "output_type": "execute_result",
          "data": {
            "text/plain": [
              "<matplotlib.axes._subplots.AxesSubplot at 0x7f4ccc93d860>"
            ]
          },
          "metadata": {
            "tags": []
          },
          "execution_count": 5
        },
        {
          "output_type": "display_data",
          "data": {
            "image/png": "[encoded data removed]",
            "text/plain": [
              "<Figure size 432x288 with 2 Axes>"
            ]
          },
          "metadata": {
            "tags": [],
            "needs_background": "light"
          }
        }
      ]
    },
    {
      "cell_type": "code",
      "metadata": {
        "colab": {
          "base_uri": "https://localhost:8080/"
        },
        "id": "gWMXgnh4z8Tb",
        "outputId": "e2fa8fd6-bf5d-4e9e-9852-c1fd34467862"
      },
      "source": [
        "Insu_corr_matrix['Claim'].sort_values(ascending=False)"
      ],
      "execution_count": 6,
      "outputs": [
        {
          "output_type": "execute_result",
          "data": {
            "text/plain": [
              "Claim                         1.000000\n",
              "Net Sales                     0.237217\n",
              "Commision (in value)          0.226251\n",
              "types_Destination             0.147274\n",
              "Duration                      0.115907\n",
              "types_Product Name            0.086999\n",
              "types_Distribution Channel   -0.014271\n",
              "Age                          -0.088161\n",
              "types_Agency Type            -0.318789\n",
              "types_Agency                 -0.400173\n",
              "Name: Claim, dtype: float64"
            ]
          },
          "metadata": {
            "tags": []
          },
          "execution_count": 6
        }
      ]
    },
    {
      "cell_type": "code",
      "metadata": {
        "colab": {
          "base_uri": "https://localhost:8080/"
        },
        "id": "EOIJyzRt1BlZ",
        "outputId": "96a1a31e-88df-481e-c060-69e56e1a3a3e"
      },
      "source": [
        "Train.shape"
      ],
      "execution_count": 7,
      "outputs": [
        {
          "output_type": "execute_result",
          "data": {
            "text/plain": [
              "(60836, 10)"
            ]
          },
          "metadata": {
            "tags": []
          },
          "execution_count": 7
        }
      ]
    },
    {
      "cell_type": "code",
      "metadata": {
        "id": "5O7gKFlm1yjq"
      },
      "source": [
        "X = Train.drop(columns=['Claim'])\r\n",
        "y = Train['Claim']"
      ],
      "execution_count": 13,
      "outputs": []
    },
    {
      "cell_type": "code",
      "metadata": {
        "id": "0JDr9vDx2fZa"
      },
      "source": [
        ""
      ],
      "execution_count": 21,
      "outputs": []
    },
    {
      "cell_type": "markdown",
      "metadata": {
        "id": "Lh1eaRos1CAo"
      },
      "source": [
        "## Logistic Regression"
      ]
    },
    {
      "cell_type": "code",
      "metadata": {
        "id": "BQEr_MeB1jh5"
      },
      "source": [
        "X_train, X_test, y_train, y_test = train_test_split(X,y,test_size=0.1)"
      ],
      "execution_count": 20,
      "outputs": []
    },
    {
      "cell_type": "code",
      "metadata": {
        "colab": {
          "base_uri": "https://localhost:8080/"
        },
        "id": "ewmL1jNX1Agp",
        "outputId": "5ea42b85-980a-4c06-bd44-d5451c88a50e"
      },
      "source": [
        "model = LogisticRegression(max_iter = 1000)     # The maximum number of iterations will be 1000. This will help you prevent from convergence warning.\r\n",
        "model.fit(X_train,y_train)"
      ],
      "execution_count": 21,
      "outputs": [
        {
          "output_type": "execute_result",
          "data": {
            "text/plain": [
              "LogisticRegression(max_iter=1000)"
            ]
          },
          "metadata": {
            "tags": []
          },
          "execution_count": 21
        }
      ]
    },
    {
      "cell_type": "code",
      "metadata": {
        "colab": {
          "base_uri": "https://localhost:8080/"
        },
        "id": "QP5Tfzg12xLF",
        "outputId": "b4c63585-0b93-4824-e556-0f92c332d401"
      },
      "source": [
        "f1_score(y_test, model.predict(X_test))"
      ],
      "execution_count": 22,
      "outputs": [
        {
          "output_type": "execute_result",
          "data": {
            "text/plain": [
              "0.6853249861903886"
            ]
          },
          "metadata": {
            "tags": []
          },
          "execution_count": 22
        }
      ]
    },
    {
      "cell_type": "markdown",
      "metadata": {
        "id": "1wnmxcfIAzPX"
      },
      "source": [
        "## Knn"
      ]
    },
    {
      "cell_type": "code",
      "metadata": {
        "colab": {
          "base_uri": "https://localhost:8080/"
        },
        "id": "pOO813DcAy8u",
        "outputId": "226dea84-46a5-4e79-ce74-ca463a0246cb"
      },
      "source": [
        "from sklearn.neighbors import KNeighborsClassifier\r\n",
        "knn = KNeighborsClassifier(n_neighbors=15)\r\n",
        "knn.fit(X_train,y_train)\r\n",
        "f1_score(y_test, knn.predict(X_test))"
      ],
      "execution_count": 48,
      "outputs": [
        {
          "output_type": "execute_result",
          "data": {
            "text/plain": [
              "0.9043982895540623"
            ]
          },
          "metadata": {
            "tags": []
          },
          "execution_count": 48
        }
      ]
    },
    {
      "cell_type": "markdown",
      "metadata": {
        "id": "h2QI8pRnB8J2"
      },
      "source": [
        "## Decision Tree"
      ]
    },
    {
      "cell_type": "code",
      "metadata": {
        "colab": {
          "base_uri": "https://localhost:8080/"
        },
        "id": "SzoNOQ6nB72-",
        "outputId": "7d1c69fb-d8d6-44cd-80c8-bfe696d32f23"
      },
      "source": [
        "from sklearn.tree import DecisionTreeClassifier\r\n",
        "dtree = DecisionTreeClassifier(max_depth=10, random_state=101)\r\n",
        "dtree.fit(X_train, y_train)\r\n",
        "f1_score(y_test, dtree.predict(X_test))"
      ],
      "execution_count": 49,
      "outputs": [
        {
          "output_type": "execute_result",
          "data": {
            "text/plain": [
              "0.8461538461538461"
            ]
          },
          "metadata": {
            "tags": []
          },
          "execution_count": 49
        }
      ]
    },
    {
      "cell_type": "code",
      "metadata": {
        "colab": {
          "base_uri": "https://localhost:8080/"
        },
        "id": "OgsbatJsDSUi",
        "outputId": "fef7b5e0-3ed7-46a2-d965-019dc97b8700"
      },
      "source": [
        "tree_para = {'criterion':['gini','entropy'],'max_depth':[4,5,6,7,8,9,10,11,12,15,20,30,40,50,70,90,120,150]}\r\n",
        "dtree = DecisionTreeClassifier(max_depth=10, random_state=101)\r\n",
        "# Grid search cv\r\n",
        "grid_search = GridSearchCV(estimator = dtree, param_grid = tree_para, \r\n",
        "                          cv = 2, n_jobs = -1, verbose = 2)\r\n",
        "grid_search.fit(X_train, y_train)"
      ],
      "execution_count": 50,
      "outputs": [
        {
          "output_type": "stream",
          "text": [
            "Fitting 2 folds for each of 36 candidates, totalling 72 fits\n"
          ],
          "name": "stdout"
        },
        {
          "output_type": "stream",
          "text": [
            "[Parallel(n_jobs=-1)]: Using backend LokyBackend with 2 concurrent workers.\n",
            "[Parallel(n_jobs=-1)]: Done  37 tasks      | elapsed:    5.4s\n",
            "[Parallel(n_jobs=-1)]: Done  72 out of  72 | elapsed:   11.5s finished\n"
          ],
          "name": "stderr"
        },
        {
          "output_type": "execute_result",
          "data": {
            "text/plain": [
              "GridSearchCV(cv=2,\n",
              "             estimator=DecisionTreeClassifier(max_depth=10, random_state=101),\n",
              "             n_jobs=-1,\n",
              "             param_grid={'criterion': ['gini', 'entropy'],\n",
              "                         'max_depth': [4, 5, 6, 7, 8, 9, 10, 11, 12, 15, 20, 30,\n",
              "                                       40, 50, 70, 90, 120, 150]},\n",
              "             verbose=2)"
            ]
          },
          "metadata": {
            "tags": []
          },
          "execution_count": 50
        }
      ]
    },
    {
      "cell_type": "code",
      "metadata": {
        "colab": {
          "base_uri": "https://localhost:8080/"
        },
        "id": "9pBCWHHqD0mH",
        "outputId": "0d5cf6b6-a701-4cc9-9131-cc5ebd114997"
      },
      "source": [
        "grid_search.best_params_"
      ],
      "execution_count": 51,
      "outputs": [
        {
          "output_type": "execute_result",
          "data": {
            "text/plain": [
              "{'criterion': 'entropy', 'max_depth': 50}"
            ]
          },
          "metadata": {
            "tags": []
          },
          "execution_count": 51
        }
      ]
    },
    {
      "cell_type": "code",
      "metadata": {
        "colab": {
          "base_uri": "https://localhost:8080/"
        },
        "id": "IsF4ud80ECmT",
        "outputId": "9d721723-7ccf-4db3-f155-81d2c09e7b25"
      },
      "source": [
        "f1_score(y_test, grid_search.predict(X_test))"
      ],
      "execution_count": 52,
      "outputs": [
        {
          "output_type": "execute_result",
          "data": {
            "text/plain": [
              "0.9624979349083099"
            ]
          },
          "metadata": {
            "tags": []
          },
          "execution_count": 52
        }
      ]
    },
    {
      "cell_type": "markdown",
      "metadata": {
        "id": "-0QV2iCa2-b5"
      },
      "source": [
        "## Random Forest"
      ]
    },
    {
      "cell_type": "code",
      "metadata": {
        "id": "yKmDvJ0Y2-HS"
      },
      "source": [
        "from sklearn.feature_selection import SelectFromModel\r\n",
        "from sklearn.metrics import accuracy_score, f1_score\r\n",
        "from sklearn.ensemble import RandomForestClassifier"
      ],
      "execution_count": 23,
      "outputs": []
    },
    {
      "cell_type": "code",
      "metadata": {
        "id": "9_mbSC6L9SWT"
      },
      "source": [
        "from sklearn.model_selection import GridSearchCV,RandomizedSearchCV"
      ],
      "execution_count": 45,
      "outputs": []
    },
    {
      "cell_type": "code",
      "metadata": {
        "colab": {
          "base_uri": "https://localhost:8080/"
        },
        "id": "svDH6mea3E1_",
        "outputId": "72d28464-28f0-493d-d612-23ac82a16139"
      },
      "source": [
        "forest = RandomForestClassifier(random_state=1, n_estimators=1000, max_depth=5)\r\n",
        " \r\n",
        "forest.fit(X_train, y_train)"
      ],
      "execution_count": 24,
      "outputs": [
        {
          "output_type": "execute_result",
          "data": {
            "text/plain": [
              "RandomForestClassifier(max_depth=5, n_estimators=1000, random_state=1)"
            ]
          },
          "metadata": {
            "tags": []
          },
          "execution_count": 24
        }
      ]
    },
    {
      "cell_type": "code",
      "metadata": {
        "colab": {
          "base_uri": "https://localhost:8080/"
        },
        "id": "zexO-ZeS3H0m",
        "outputId": "e3ed9c0e-e192-4c46-a70d-bdc53b62b509"
      },
      "source": [
        "f1_score(y_test, forest.predict(X_test))"
      ],
      "execution_count": 25,
      "outputs": [
        {
          "output_type": "execute_result",
          "data": {
            "text/plain": [
              "0.7631944444444445"
            ]
          },
          "metadata": {
            "tags": []
          },
          "execution_count": 25
        }
      ]
    },
    {
      "cell_type": "markdown",
      "metadata": {
        "id": "uTRtoHip3bxN"
      },
      "source": [
        "## Random forest with boruta"
      ]
    },
    {
      "cell_type": "code",
      "metadata": {
        "colab": {
          "base_uri": "https://localhost:8080/"
        },
        "id": "V0z6CBje3U_z",
        "outputId": "87b49be1-a047-4247-8baf-531db8522e42"
      },
      "source": [
        "!pip install Boruta"
      ],
      "execution_count": 26,
      "outputs": [
        {
          "output_type": "stream",
          "text": [
            "Collecting Boruta\n",
            "\u001b[?25l  Downloading https://files.pythonhosted.org/packages/b2/11/583f4eac99d802c79af9217e1eff56027742a69e6c866b295cce6a5a8fc2/Boruta-0.3-py3-none-any.whl (56kB)\n",
            "\r\u001b[K     |█████▉                          | 10kB 16.1MB/s eta 0:00:01\r\u001b[K     |███████████▋                    | 20kB 21.6MB/s eta 0:00:01\r\u001b[K     |█████████████████▍              | 30kB 18.3MB/s eta 0:00:01\r\u001b[K     |███████████████████████▏        | 40kB 11.8MB/s eta 0:00:01\r\u001b[K     |█████████████████████████████   | 51kB 8.9MB/s eta 0:00:01\r\u001b[K     |████████████████████████████████| 61kB 4.8MB/s \n",
            "\u001b[?25hRequirement already satisfied: scikit-learn>=0.17.1 in /usr/local/lib/python3.6/dist-packages (from Boruta) (0.23.1)\n",
            "Requirement already satisfied: numpy>=1.10.4 in /usr/local/lib/python3.6/dist-packages (from Boruta) (1.19.4)\n",
            "Requirement already satisfied: scipy>=0.17.0 in /usr/local/lib/python3.6/dist-packages (from Boruta) (1.4.1)\n",
            "Requirement already satisfied: joblib>=0.11 in /usr/local/lib/python3.6/dist-packages (from scikit-learn>=0.17.1->Boruta) (1.0.0)\n",
            "Requirement already satisfied: threadpoolctl>=2.0.0 in /usr/local/lib/python3.6/dist-packages (from scikit-learn>=0.17.1->Boruta) (2.1.0)\n",
            "Installing collected packages: Boruta\n",
            "Successfully installed Boruta-0.3\n"
          ],
          "name": "stdout"
        }
      ]
    },
    {
      "cell_type": "code",
      "metadata": {
        "id": "QQXyGIkM3fvA"
      },
      "source": [
        "from boruta import BorutaPy"
      ],
      "execution_count": 27,
      "outputs": []
    },
    {
      "cell_type": "code",
      "metadata": {
        "colab": {
          "base_uri": "https://localhost:8080/"
        },
        "id": "piknj9HT3ili",
        "outputId": "02857e0c-fe3a-4228-9b5f-2d322b255d0c"
      },
      "source": [
        "rfc = RandomForestClassifier(random_state=1, n_estimators=1000, max_depth=5)\r\n",
        "boruta_selector = BorutaPy(rfc, n_estimators='auto', verbose=2, random_state=1)   # initialize the boruta selector\r\n",
        "boruta_selector.fit(np.array(X_train), np.array(y_train))       # fitting the boruta selector to get all relavent features. \r\n",
        "# NOTE: BorutaPy accepts numpy arrays only."
      ],
      "execution_count": 28,
      "outputs": [
        {
          "output_type": "stream",
          "text": [
            "Iteration: \t1 / 100\n",
            "Confirmed: \t0\n",
            "Tentative: \t9\n",
            "Rejected: \t0\n",
            "Iteration: \t2 / 100\n",
            "Confirmed: \t0\n",
            "Tentative: \t9\n",
            "Rejected: \t0\n",
            "Iteration: \t3 / 100\n",
            "Confirmed: \t0\n",
            "Tentative: \t9\n",
            "Rejected: \t0\n",
            "Iteration: \t4 / 100\n",
            "Confirmed: \t0\n",
            "Tentative: \t9\n",
            "Rejected: \t0\n",
            "Iteration: \t5 / 100\n",
            "Confirmed: \t0\n",
            "Tentative: \t9\n",
            "Rejected: \t0\n",
            "Iteration: \t6 / 100\n",
            "Confirmed: \t0\n",
            "Tentative: \t9\n",
            "Rejected: \t0\n",
            "Iteration: \t7 / 100\n",
            "Confirmed: \t0\n",
            "Tentative: \t9\n",
            "Rejected: \t0\n",
            "Iteration: \t8 / 100\n",
            "Confirmed: \t9\n",
            "Tentative: \t0\n",
            "Rejected: \t0\n",
            "\n",
            "\n",
            "BorutaPy finished running.\n",
            "\n",
            "Iteration: \t9 / 100\n",
            "Confirmed: \t9\n",
            "Tentative: \t0\n",
            "Rejected: \t0\n"
          ],
          "name": "stdout"
        },
        {
          "output_type": "execute_result",
          "data": {
            "text/plain": [
              "BorutaPy(estimator=RandomForestClassifier(max_depth=5, n_estimators=84,\n",
              "                                          random_state=RandomState(MT19937) at 0x7F4CBE9E6DB0),\n",
              "         n_estimators='auto',\n",
              "         random_state=RandomState(MT19937) at 0x7F4CBE9E6DB0, verbose=2)"
            ]
          },
          "metadata": {
            "tags": []
          },
          "execution_count": 28
        }
      ]
    },
    {
      "cell_type": "code",
      "metadata": {
        "colab": {
          "base_uri": "https://localhost:8080/"
        },
        "id": "lSXnC7OJ35U3",
        "outputId": "effae9e8-0c0b-4771-cde0-5154f86756b7"
      },
      "source": [
        "print(\"Selected Features: \", boruta_selector.support_)    # check selected features\r\n",
        " \r\n",
        "\r\n",
        "print(\"Ranking: \",boruta_selector.ranking_)               # check ranking of features\r\n",
        "\r\n",
        "print(\"No. of significant features: \", boruta_selector.n_features_)"
      ],
      "execution_count": 29,
      "outputs": [
        {
          "output_type": "stream",
          "text": [
            "Selected Features:  [ True  True  True  True  True  True  True  True  True]\n",
            "Ranking:  [1 1 1 1 1 1 1 1 1]\n",
            "No. of significant features:  9\n"
          ],
          "name": "stdout"
        }
      ]
    },
    {
      "cell_type": "code",
      "metadata": {
        "colab": {
          "base_uri": "https://localhost:8080/",
          "height": 314
        },
        "id": "QvPlNrcI3_eo",
        "outputId": "ef1a089e-9c3b-43d8-a1fb-87d21e3430e3"
      },
      "source": [
        "selected_rf_features = pd.DataFrame({'Feature':list(X_train.columns),\r\n",
        "                                      'Ranking':boruta_selector.ranking_})\r\n",
        "selected_rf_features.sort_values(by='Ranking')"
      ],
      "execution_count": 30,
      "outputs": [
        {
          "output_type": "execute_result",
          "data": {
            "text/html": [
              "<div>\n",
              "<style scoped>\n",
              "    .dataframe tbody tr th:only-of-type {\n",
              "        vertical-align: middle;\n",
              "    }\n",
              "\n",
              "    .dataframe tbody tr th {\n",
              "        vertical-align: top;\n",
              "    }\n",
              "\n",
              "    .dataframe thead th {\n",
              "        text-align: right;\n",
              "    }\n",
              "</style>\n",
              "<table border=\"1\" class=\"dataframe\">\n",
              "  <thead>\n",
              "    <tr style=\"text-align: right;\">\n",
              "      <th></th>\n",
              "      <th>Feature</th>\n",
              "      <th>Ranking</th>\n",
              "    </tr>\n",
              "  </thead>\n",
              "  <tbody>\n",
              "    <tr>\n",
              "      <th>0</th>\n",
              "      <td>Duration</td>\n",
              "      <td>1</td>\n",
              "    </tr>\n",
              "    <tr>\n",
              "      <th>1</th>\n",
              "      <td>Net Sales</td>\n",
              "      <td>1</td>\n",
              "    </tr>\n",
              "    <tr>\n",
              "      <th>2</th>\n",
              "      <td>Commision (in value)</td>\n",
              "      <td>1</td>\n",
              "    </tr>\n",
              "    <tr>\n",
              "      <th>3</th>\n",
              "      <td>Age</td>\n",
              "      <td>1</td>\n",
              "    </tr>\n",
              "    <tr>\n",
              "      <th>4</th>\n",
              "      <td>types_Agency</td>\n",
              "      <td>1</td>\n",
              "    </tr>\n",
              "    <tr>\n",
              "      <th>5</th>\n",
              "      <td>types_Agency Type</td>\n",
              "      <td>1</td>\n",
              "    </tr>\n",
              "    <tr>\n",
              "      <th>6</th>\n",
              "      <td>types_Distribution Channel</td>\n",
              "      <td>1</td>\n",
              "    </tr>\n",
              "    <tr>\n",
              "      <th>7</th>\n",
              "      <td>types_Product Name</td>\n",
              "      <td>1</td>\n",
              "    </tr>\n",
              "    <tr>\n",
              "      <th>8</th>\n",
              "      <td>types_Destination</td>\n",
              "      <td>1</td>\n",
              "    </tr>\n",
              "  </tbody>\n",
              "</table>\n",
              "</div>"
            ],
            "text/plain": [
              "                      Feature  Ranking\n",
              "0                    Duration        1\n",
              "1                   Net Sales        1\n",
              "2        Commision (in value)        1\n",
              "3                         Age        1\n",
              "4                types_Agency        1\n",
              "5           types_Agency Type        1\n",
              "6  types_Distribution Channel        1\n",
              "7          types_Product Name        1\n",
              "8           types_Destination        1"
            ]
          },
          "metadata": {
            "tags": []
          },
          "execution_count": 30
        }
      ]
    },
    {
      "cell_type": "code",
      "metadata": {
        "id": "OfPTOHdy4Gp8"
      },
      "source": [
        "from sklearn.model_selection import GridSearchCV\r\n",
        "# Create the parameter grid based on the results of random search \r\n",
        "param_grid = {\r\n",
        "    'bootstrap': [True, False],\r\n",
        "    'max_depth': [5, 10, 15],\r\n",
        "    'n_estimators': [500, 1000]}"
      ],
      "execution_count": 31,
      "outputs": []
    },
    {
      "cell_type": "code",
      "metadata": {
        "id": "KoUXi5BO4RYi"
      },
      "source": [
        "rf = RandomForestClassifier(random_state = 1)\r\n",
        "\r\n",
        "# Grid search cv\r\n",
        "grid_search = GridSearchCV(estimator = rf, param_grid = param_grid, \r\n",
        "                          cv = 2, n_jobs = -1, verbose = 2)"
      ],
      "execution_count": 32,
      "outputs": []
    },
    {
      "cell_type": "code",
      "metadata": {
        "colab": {
          "base_uri": "https://localhost:8080/"
        },
        "id": "mLvylEs54VYK",
        "outputId": "af1b4e80-debd-431e-a84f-154e3fedcce8"
      },
      "source": [
        "grid_search.fit(X_train, y_train)"
      ],
      "execution_count": 33,
      "outputs": [
        {
          "output_type": "stream",
          "text": [
            "Fitting 2 folds for each of 12 candidates, totalling 24 fits\n"
          ],
          "name": "stdout"
        },
        {
          "output_type": "stream",
          "text": [
            "[Parallel(n_jobs=-1)]: Using backend LokyBackend with 2 concurrent workers.\n",
            "[Parallel(n_jobs=-1)]: Done  24 out of  24 | elapsed:  7.6min finished\n"
          ],
          "name": "stderr"
        },
        {
          "output_type": "execute_result",
          "data": {
            "text/plain": [
              "GridSearchCV(cv=2, estimator=RandomForestClassifier(random_state=1), n_jobs=-1,\n",
              "             param_grid={'bootstrap': [True, False], 'max_depth': [5, 10, 15],\n",
              "                         'n_estimators': [500, 1000]},\n",
              "             verbose=2)"
            ]
          },
          "metadata": {
            "tags": []
          },
          "execution_count": 33
        }
      ]
    },
    {
      "cell_type": "code",
      "metadata": {
        "colab": {
          "base_uri": "https://localhost:8080/"
        },
        "id": "fHvqAhUd4Z_G",
        "outputId": "0959aa93-ca16-4803-b633-ebb1248328bb"
      },
      "source": [
        "grid_search.best_params_"
      ],
      "execution_count": 34,
      "outputs": [
        {
          "output_type": "execute_result",
          "data": {
            "text/plain": [
              "{'bootstrap': False, 'max_depth': 15, 'n_estimators': 1000}"
            ]
          },
          "metadata": {
            "tags": []
          },
          "execution_count": 34
        }
      ]
    },
    {
      "cell_type": "code",
      "metadata": {
        "colab": {
          "base_uri": "https://localhost:8080/"
        },
        "id": "YfY4EHLA6wcI",
        "outputId": "a032df78-4103-48ec-ca48-3a90a1887c61"
      },
      "source": [
        "f1_score(y_test, grid_search.predict(X_test))"
      ],
      "execution_count": 35,
      "outputs": [
        {
          "output_type": "execute_result",
          "data": {
            "text/plain": [
              "0.9363449691991786"
            ]
          },
          "metadata": {
            "tags": []
          },
          "execution_count": 35
        }
      ]
    },
    {
      "cell_type": "markdown",
      "metadata": {
        "id": "yefNuWUNNBQU"
      },
      "source": [
        "##XGBoost"
      ]
    },
    {
      "cell_type": "code",
      "metadata": {
        "id": "9Th1czSQMlaj"
      },
      "source": [
        "from xgboost import XGBClassifier"
      ],
      "execution_count": 56,
      "outputs": []
    },
    {
      "cell_type": "code",
      "metadata": {
        "colab": {
          "base_uri": "https://localhost:8080/"
        },
        "id": "DLzllOf_MlRD",
        "outputId": "4e259537-219d-4fcf-e306-3377060381c7"
      },
      "source": [
        "xg = XGBClassifier(learning_rate=0.1, n_estimators=1000, max_depth=5, seed=28)\r\n",
        "xg.fit(X_train, y_train)\r\n",
        "f1_score(y_test, xg.predict(X_test))"
      ],
      "execution_count": 61,
      "outputs": [
        {
          "output_type": "execute_result",
          "data": {
            "text/plain": [
              "0.989051094890511"
            ]
          },
          "metadata": {
            "tags": []
          },
          "execution_count": 61
        }
      ]
    },
    {
      "cell_type": "code",
      "metadata": {
        "colab": {
          "base_uri": "https://localhost:8080/"
        },
        "id": "dP0sKb_GN0l5",
        "outputId": "d23ea35d-d0c4-4768-f12c-8e6207e6bdd6"
      },
      "source": [
        "param_test1 = {\r\n",
        " 'max_depth':range(3,10,2),\r\n",
        " 'min_child_weight':range(1,6,2)\r\n",
        "}\r\n",
        "gsearch1 = GridSearchCV(estimator = XGBClassifier( learning_rate =0.1, n_estimators=140, max_depth=5,\r\n",
        " min_child_weight=1, gamma=0, subsample=0.8, colsample_bytree=0.8,\r\n",
        " objective= 'binary:logistic', nthread=4, scale_pos_weight=1, seed=27), \r\n",
        " param_grid = param_test1, scoring='roc_auc',n_jobs=4,iid=False, cv=5)\r\n",
        "gsearch1.fit(X_train,y_train)\r\n",
        "gsearch1.best_params_"
      ],
      "execution_count": 65,
      "outputs": [
        {
          "output_type": "execute_result",
          "data": {
            "text/plain": [
              "{'max_depth': 9, 'min_child_weight': 1}"
            ]
          },
          "metadata": {
            "tags": []
          },
          "execution_count": 65
        }
      ]
    },
    {
      "cell_type": "code",
      "metadata": {
        "colab": {
          "base_uri": "https://localhost:8080/"
        },
        "id": "fYrJwsrM6_I1",
        "outputId": "f1980a04-3234-474d-bd92-c7c0937f7143"
      },
      "source": [
        "pd.DataFrame(gsearch1.predict(test)).value_counts()"
      ],
      "execution_count": 68,
      "outputs": [
        {
          "output_type": "execute_result",
          "data": {
            "text/plain": [
              "1    8928\n",
              "0    6904\n",
              "dtype: int64"
            ]
          },
          "metadata": {
            "tags": []
          },
          "execution_count": 68
        }
      ]
    },
    {
      "cell_type": "code",
      "metadata": {
        "id": "RXK9gH7A7WXC"
      },
      "source": [
        ""
      ],
      "execution_count": null,
      "outputs": []
    },
    {
      "cell_type": "code",
      "metadata": {
        "colab": {
          "base_uri": "https://localhost:8080/",
          "height": 17
        },
        "id": "nUySD778xuGs",
        "outputId": "33c44b1f-8c1e-4a21-f97b-8c7bf4cfb96d"
      },
      "source": [
        "from google.colab import files\r\n",
        "res = pd.DataFrame(gsearch1.predict(test)) \r\n",
        "res.columns = [\"prediction\"]\r\n",
        "res.to_csv('xg_final.csv',index=False)         \r\n",
        "files.download('xg_final.csv')"
      ],
      "execution_count": 69,
      "outputs": [
        {
          "output_type": "display_data",
          "data": {
            "application/javascript": [
              "\n",
              "    async function download(id, filename, size) {\n",
              "      if (!google.colab.kernel.accessAllowed) {\n",
              "        return;\n",
              "      }\n",
              "      const div = document.createElement('div');\n",
              "      const label = document.createElement('label');\n",
              "      label.textContent = `Downloading \"${filename}\": `;\n",
              "      div.appendChild(label);\n",
              "      const progress = document.createElement('progress');\n",
              "      progress.max = size;\n",
              "      div.appendChild(progress);\n",
              "      document.body.appendChild(div);\n",
              "\n",
              "      const buffers = [];\n",
              "      let downloaded = 0;\n",
              "\n",
              "      const channel = await google.colab.kernel.comms.open(id);\n",
              "      // Send a message to notify the kernel that we're ready.\n",
              "      channel.send({})\n",
              "\n",
              "      for await (const message of channel.messages) {\n",
              "        // Send a message to notify the kernel that we're ready.\n",
              "        channel.send({})\n",
              "        if (message.buffers) {\n",
              "          for (const buffer of message.buffers) {\n",
              "            buffers.push(buffer);\n",
              "            downloaded += buffer.byteLength;\n",
              "            progress.value = downloaded;\n",
              "          }\n",
              "        }\n",
              "      }\n",
              "      const blob = new Blob(buffers, {type: 'application/binary'});\n",
              "      const a = document.createElement('a');\n",
              "      a.href = window.URL.createObjectURL(blob);\n",
              "      a.download = filename;\n",
              "      div.appendChild(a);\n",
              "      a.click();\n",
              "      div.remove();\n",
              "    }\n",
              "  "
            ],
            "text/plain": [
              "<IPython.core.display.Javascript object>"
            ]
          },
          "metadata": {
            "tags": []
          }
        },
        {
          "output_type": "display_data",
          "data": {
            "application/javascript": [
              "download(\"download_51ee72b3-3720-432d-a8aa-48c07372da22\", \"xg_final.csv\", 31675)"
            ],
            "text/plain": [
              "<IPython.core.display.Javascript object>"
            ]
          },
          "metadata": {
            "tags": []
          }
        }
      ]
    }
  ]
}